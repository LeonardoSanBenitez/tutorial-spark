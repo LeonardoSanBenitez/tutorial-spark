{
 "cells": [
  {
   "cell_type": "markdown",
   "id": "ef724904-86c7-451b-a7f6-d0356d8658d0",
   "metadata": {},
   "source": [
    "Source: https://medium.com/@suci/running-pyspark-on-jupyter-notebook-with-docker-602b18ac4494"
   ]
  },
  {
   "cell_type": "code",
   "execution_count": 1,
   "id": "de823b77-85cd-412d-bbc5-9fec500e1f09",
   "metadata": {},
   "outputs": [
    {
     "data": {
      "text/plain": [
       "[186, 717, 857, 458, 833]"
      ]
     },
     "execution_count": 1,
     "metadata": {},
     "output_type": "execute_result"
    }
   ],
   "source": [
    "import pyspark \n",
    "sc = pyspark.SparkContext('local[*]')# do something to prove it works\n",
    "rdd = sc.parallelize(range(1000))\n",
    "rdd.takeSample(False, 5)"
   ]
  }
 ],
 "metadata": {
  "kernelspec": {
   "display_name": "Python 3 (ipykernel)",
   "language": "python",
   "name": "python3"
  },
  "language_info": {
   "codemirror_mode": {
    "name": "ipython",
    "version": 3
   },
   "file_extension": ".py",
   "mimetype": "text/x-python",
   "name": "python",
   "nbconvert_exporter": "python",
   "pygments_lexer": "ipython3",
   "version": "3.10.5"
  }
 },
 "nbformat": 4,
 "nbformat_minor": 5
}
