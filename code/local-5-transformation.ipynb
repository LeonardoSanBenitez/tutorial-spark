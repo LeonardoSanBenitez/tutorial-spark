{
 "cells": [
  {
   "cell_type": "code",
   "execution_count": null,
   "id": "7b192307-2928-481b-9671-c02421deef0b",
   "metadata": {},
   "outputs": [],
   "source": [
    "I'm just thrwoing here some boilerplate code that may help"
   ]
  },
  {
   "cell_type": "code",
   "execution_count": null,
   "id": "e46882b9-9dcc-4015-b659-7d16e33e1858",
   "metadata": {},
   "outputs": [],
   "source": [
    "%%time\n",
    "df_filtered = df.filter(df.url.contains(\"endpoint=lol\"))\\\n",
    "                .filter(df.url.contains(\"id=3\"))\\\n",
    "                .select(['created_at', 'ip','geo_city' ,'url'])\n",
    "\n",
    "print(df_filtered.count())\n",
    "df_filtered.show(10)"
   ]
  },
  {
   "cell_type": "code",
   "execution_count": null,
   "id": "871c1d34-bc6d-4681-8ee0-72b742092d59",
   "metadata": {},
   "outputs": [],
   "source": []
  },
  {
   "cell_type": "code",
   "execution_count": null,
   "id": "f738633d-d5c8-4a79-b202-54663ca91a8b",
   "metadata": {},
   "outputs": [],
   "source": [
    "%%time\n",
    "#Reference: https://rsandstroem.github.io/tag/time-series.html#Resampling-time-series-with-Spark\n",
    "grouped = df_filtered.groupBy('ip', window(\"created_at\", \"30 second\")).agg(count(\"ip\").alias('count'))\n",
    "resampled_grouped = grouped.select(grouped.window.start.alias(\"created_at\"), \"ip\", \"count\")\n",
    "resampled = resampled_grouped.groupby('created_at')\\\n",
    "        .agg(count('created_at'))\\\n",
    "        .orderBy('created_at', ascending=True)\n",
    "print(resampled.count())\n",
    "resampled.show()"
   ]
  }
 ],
 "metadata": {
  "kernelspec": {
   "display_name": "Python 3 (ipykernel)",
   "language": "python",
   "name": "python3"
  },
  "language_info": {
   "codemirror_mode": {
    "name": "ipython",
    "version": 3
   },
   "file_extension": ".py",
   "mimetype": "text/x-python",
   "name": "python",
   "nbconvert_exporter": "python",
   "pygments_lexer": "ipython3",
   "version": "3.10.5"
  }
 },
 "nbformat": 4,
 "nbformat_minor": 5
}
