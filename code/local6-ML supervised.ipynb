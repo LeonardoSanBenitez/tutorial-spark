{
 "cells": [
  {
   "cell_type": "code",
   "execution_count": 3,
   "id": "d0195546-1af9-4373-b5de-238f924cb7da",
   "metadata": {},
   "outputs": [],
   "source": [
    "from pyspark.sql import SparkSession\n",
    "from pyspark import SparkContext\n",
    "from pyspark.sql import SQLContext\n",
    "from pyspark.sql.functions import lower, col\n",
    "from pyspark.ml.feature import VectorAssembler, StringIndexer\n",
    "from pyspark.ml.linalg import Vectors\n",
    "from pyspark.ml.classification import LogisticRegression\n",
    "from pyspark.ml.evaluation import MulticlassClassificationEvaluator\n"
   ]
  },
  {
   "cell_type": "code",
   "execution_count": 4,
   "id": "7d79e16e-180c-4c46-b531-5b0c7d857f43",
   "metadata": {},
   "outputs": [
    {
     "name": "stdout",
     "output_type": "stream",
     "text": [
      "[1.0,2.0,3.0]\n",
      "(3,[1,2],[2.0,3.0])\n"
     ]
    }
   ],
   "source": [
    "# Create hardcoded vector\n",
    "denseVec = Vectors.dense(1.0, 2.0, 3.0)\n",
    "print(denseVec)\n",
    "size = 3\n",
    "idx = [1, 2] # locations of non-zero elements in vector\n",
    "values = [2.0, 3.0]\n",
    "sparseVec = Vectors.sparse(size, idx, values)\n",
    "print(sparseVec)"
   ]
  },
  {
   "cell_type": "code",
   "execution_count": 5,
   "id": "9a545edd-dc12-47f2-b22e-c62482a99304",
   "metadata": {},
   "outputs": [
    {
     "name": "stderr",
     "output_type": "stream",
     "text": [
      "/usr/local/spark/python/pyspark/sql/context.py:113: FutureWarning: Deprecated in 3.0.0. Use SparkSession.builder.getOrCreate() instead.\n",
      "  warnings.warn(\n"
     ]
    },
    {
     "name": "stdout",
     "output_type": "stream",
     "text": [
      "150\n",
      "root\n",
      " |-- Id: string (nullable = true)\n",
      " |-- SepalLengthCm: string (nullable = true)\n",
      " |-- SepalWidthCm: string (nullable = true)\n",
      " |-- PetalLengthCm: string (nullable = true)\n",
      " |-- PetalWidthCm: string (nullable = true)\n",
      " |-- Species: string (nullable = true)\n",
      "\n",
      "None\n",
      "+---+-------------+------------+-------------+------------+-----------+\n",
      "| Id|SepalLengthCm|SepalWidthCm|PetalLengthCm|PetalWidthCm|    Species|\n",
      "+---+-------------+------------+-------------+------------+-----------+\n",
      "|  1|          5.1|         3.5|          1.4|         0.2|Iris-setosa|\n",
      "|  2|          4.9|         3.0|          1.4|         0.2|Iris-setosa|\n",
      "|  3|          4.7|         3.2|          1.3|         0.2|Iris-setosa|\n",
      "|  4|          4.6|         3.1|          1.5|         0.2|Iris-setosa|\n",
      "|  5|          5.0|         3.6|          1.4|         0.2|Iris-setosa|\n",
      "+---+-------------+------------+-------------+------------+-----------+\n",
      "only showing top 5 rows\n",
      "\n"
     ]
    }
   ],
   "source": [
    "# initialise sparkContext\n",
    "spark = SparkSession.builder \\\n",
    "    .master('local') \\\n",
    "    .appName('myAppName') \\\n",
    "    .config('spark.executor.memory', '2gb') \\\n",
    "    .config(\"spark.cores.max\", \"2\") \\\n",
    "    .getOrCreate()\n",
    "\n",
    "# using SQLContext to read parquet file\n",
    "sc = spark.sparkContext\n",
    "sqlContext = SQLContext(sc)\n",
    "\n",
    "# to read parquet file\n",
    "df = sqlContext.read.csv('../assets/iris-dataset/Iris.csv', header=True)\n",
    "print(df.count())\n",
    "print(df.printSchema())\n",
    "df.show(5)"
   ]
  },
  {
   "cell_type": "code",
   "execution_count": 6,
   "id": "38f9b123-44a3-4a93-8abe-c626b3e2ee05",
   "metadata": {},
   "outputs": [
    {
     "name": "stdout",
     "output_type": "stream",
     "text": [
      "root\n",
      " |-- Id: string (nullable = true)\n",
      " |-- SepalLengthCm: double (nullable = true)\n",
      " |-- SepalWidthCm: double (nullable = true)\n",
      " |-- PetalLengthCm: double (nullable = true)\n",
      " |-- PetalWidthCm: double (nullable = true)\n",
      " |-- Species: string (nullable = true)\n",
      " |-- label: double (nullable = false)\n",
      " |-- features: vector (nullable = true)\n",
      "\n",
      "None\n",
      "+---+-------------+------------+-------------+------------+-----------+-----+-----------------+\n",
      "| Id|SepalLengthCm|SepalWidthCm|PetalLengthCm|PetalWidthCm|    Species|label|         features|\n",
      "+---+-------------+------------+-------------+------------+-----------+-----+-----------------+\n",
      "|  1|          5.1|         3.5|          1.4|         0.2|iris-setosa|  0.0|[5.1,3.5,1.4,0.2]|\n",
      "|  2|          4.9|         3.0|          1.4|         0.2|iris-setosa|  0.0|[4.9,3.0,1.4,0.2]|\n",
      "|  3|          4.7|         3.2|          1.3|         0.2|iris-setosa|  0.0|[4.7,3.2,1.3,0.2]|\n",
      "|  4|          4.6|         3.1|          1.5|         0.2|iris-setosa|  0.0|[4.6,3.1,1.5,0.2]|\n",
      "|  5|          5.0|         3.6|          1.4|         0.2|iris-setosa|  0.0|[5.0,3.6,1.4,0.2]|\n",
      "+---+-------------+------------+-------------+------------+-----------+-----+-----------------+\n",
      "only showing top 5 rows\n",
      "\n"
     ]
    }
   ],
   "source": [
    "df = df.withColumn(\"SepalLengthCm\", col(\"SepalLengthCm\").cast(\"double\"))\n",
    "df = df.withColumn(\"SepalWidthCm\", col(\"SepalWidthCm\").cast(\"double\"))\n",
    "df = df.withColumn(\"PetalLengthCm\", col(\"PetalLengthCm\").cast(\"double\"))\n",
    "df = df.withColumn(\"PetalWidthCm\", col(\"PetalWidthCm\").cast(\"double\"))\n",
    "df = df.withColumn(\"Species\", lower(col(\"Species\")))\n",
    "\n",
    "indexer = StringIndexer(inputCol=\"Species\", outputCol=\"label\")\n",
    "df = indexer.fit(df).transform(df)\n",
    "\n",
    "assembler = VectorAssembler(\n",
    "    inputCols=[\"SepalLengthCm\", \"SepalWidthCm\", \"PetalLengthCm\", \"PetalWidthCm\"],\n",
    "    outputCol=\"features\"\n",
    ")\n",
    "df = assembler.transform(df)\n",
    "print(df.printSchema())\n",
    "df.show(5)"
   ]
  },
  {
   "cell_type": "code",
   "execution_count": 7,
   "id": "4a005115-8349-488d-85b3-3e65ccff0462",
   "metadata": {},
   "outputs": [],
   "source": [
    "df_train, df_test = df.randomSplit([0.7, 0.3])"
   ]
  },
  {
   "cell_type": "code",
   "execution_count": 8,
   "id": "6c02e957-0543-4dc0-8dcd-9d161fa5951b",
   "metadata": {},
   "outputs": [
    {
     "name": "stdout",
     "output_type": "stream",
     "text": [
      "aggregationDepth: suggested depth for treeAggregate (>= 2). (default: 2)\n",
      "elasticNetParam: the ElasticNet mixing parameter, in range [0, 1]. For alpha = 0, the penalty is an L2 penalty. For alpha = 1, it is an L1 penalty. (default: 0.0)\n",
      "family: The name of family which is a description of the label distribution to be used in the model. Supported options: auto, binomial, multinomial (default: auto)\n",
      "featuresCol: features column name. (default: features, current: features)\n",
      "fitIntercept: whether to fit an intercept term. (default: True)\n",
      "labelCol: label column name. (default: label, current: label)\n",
      "lowerBoundsOnCoefficients: The lower bounds on coefficients if fitting under bound constrained optimization. The bound matrix must be compatible with the shape (1, number of features) for binomial regression, or (number of classes, number of features) for multinomial regression. (undefined)\n",
      "lowerBoundsOnIntercepts: The lower bounds on intercepts if fitting under bound constrained optimization. The bounds vector size must beequal with 1 for binomial regression, or the number oflasses for multinomial regression. (undefined)\n",
      "maxBlockSizeInMB: maximum memory in MB for stacking input data into blocks. Data is stacked within partitions. If more than remaining data size in a partition then it is adjusted to the data size. Default 0.0 represents choosing optimal value, depends on specific algorithm. Must be >= 0. (default: 0.0)\n",
      "maxIter: max number of iterations (>= 0). (default: 100)\n",
      "predictionCol: prediction column name. (default: prediction)\n",
      "probabilityCol: Column name for predicted class conditional probabilities. Note: Not all models output well-calibrated probability estimates! These probabilities should be treated as confidences, not precise probabilities. (default: probability)\n",
      "rawPredictionCol: raw prediction (a.k.a. confidence) column name. (default: rawPrediction)\n",
      "regParam: regularization parameter (>= 0). (default: 0.0)\n",
      "standardization: whether to standardize the training features before fitting the model. (default: True)\n",
      "threshold: Threshold in binary classification prediction, in range [0, 1]. If threshold and thresholds are both set, they must match.e.g. if threshold is p, then thresholds must be equal to [1-p, p]. (default: 0.5)\n",
      "thresholds: Thresholds in multi-class classification to adjust the probability of predicting each class. Array must have length equal to the number of classes, with values > 0, excepting that at most one value may be 0. The class with largest value p/t is predicted, where p is the original probability of that class and t is the class's threshold. (undefined)\n",
      "tol: the convergence tolerance for iterative algorithms (>= 0). (default: 1e-06)\n",
      "upperBoundsOnCoefficients: The upper bounds on coefficients if fitting under bound constrained optimization. The bound matrix must be compatible with the shape (1, number of features) for binomial regression, or (number of classes, number of features) for multinomial regression. (undefined)\n",
      "upperBoundsOnIntercepts: The upper bounds on intercepts if fitting under bound constrained optimization. The bound vector size must be equal with 1 for binomial regression, or the number of classes for multinomial regression. (undefined)\n",
      "weightCol: weight column name. If this is not set or empty, we treat all instance weights as 1.0. (undefined)\n"
     ]
    }
   ],
   "source": [
    "model = LogisticRegression(labelCol=\"label\",featuresCol=\"features\")\n",
    "print(model.explainParams())"
   ]
  },
  {
   "cell_type": "code",
   "execution_count": 9,
   "id": "15e62ac9-0c4d-48fa-922d-4ad7638c4cd3",
   "metadata": {},
   "outputs": [],
   "source": [
    "model_fitted = model.fit(df_train)"
   ]
  },
  {
   "cell_type": "code",
   "execution_count": 10,
   "id": "925f0347-52d0-438f-9850-221f08a6adc0",
   "metadata": {},
   "outputs": [
    {
     "name": "stdout",
     "output_type": "stream",
     "text": [
      "+---+-----+----------+\n",
      "| id|label|prediction|\n",
      "+---+-----+----------+\n",
      "|100|  1.0|       1.0|\n",
      "|103|  2.0|       2.0|\n",
      "|108|  2.0|       2.0|\n",
      "|113|  2.0|       2.0|\n",
      "|116|  2.0|       2.0|\n",
      "|117|  2.0|       2.0|\n",
      "|123|  2.0|       2.0|\n",
      "|127|  2.0|       2.0|\n",
      "|129|  2.0|       2.0|\n",
      "|133|  2.0|       2.0|\n",
      "|134|  2.0|       1.0|\n",
      "|135|  2.0|       1.0|\n",
      "|141|  2.0|       2.0|\n",
      "|143|  2.0|       2.0|\n",
      "|145|  2.0|       2.0|\n",
      "|146|  2.0|       2.0|\n",
      "| 15|  0.0|       0.0|\n",
      "|150|  2.0|       2.0|\n",
      "| 16|  0.0|       0.0|\n",
      "| 19|  0.0|       0.0|\n",
      "+---+-----+----------+\n",
      "only showing top 20 rows\n",
      "\n"
     ]
    }
   ],
   "source": [
    "df_pred = model_fitted.transform(df_test).select(\"id\", \"label\", \"prediction\")\n",
    "df_pred.show()"
   ]
  },
  {
   "cell_type": "code",
   "execution_count": 11,
   "id": "c11bd692-824b-45ee-9cd7-db35036a31d0",
   "metadata": {},
   "outputs": [
    {
     "name": "stdout",
     "output_type": "stream",
     "text": [
      "Accuracy: 0.94\n",
      "Recall: 0.94\n"
     ]
    }
   ],
   "source": [
    "# Calculate accuracy\n",
    "accuracy_evaluator = MulticlassClassificationEvaluator(labelCol=\"label\", predictionCol=\"prediction\", metricName=\"accuracy\")\n",
    "accuracy = accuracy_evaluator.evaluate(df_pred)\n",
    "print(f\"Accuracy: {accuracy}\")\n",
    "\n",
    "# Calculate recall\n",
    "recall_evaluator = MulticlassClassificationEvaluator(labelCol=\"label\", predictionCol=\"prediction\", metricName=\"weightedRecall\")\n",
    "recall = recall_evaluator.evaluate(df_pred)\n",
    "print(f\"Recall: {recall}\")"
   ]
  },
  {
   "cell_type": "markdown",
   "id": "f9b1b272-28fe-4c83-8747-7ad09930d0bd",
   "metadata": {},
   "source": [
    "# Persist with spark format"
   ]
  },
  {
   "cell_type": "code",
   "execution_count": 12,
   "id": "34a090aa-3374-4458-b4d0-65e0aa5194d2",
   "metadata": {},
   "outputs": [],
   "source": [
    "model_fitted.write().overwrite().save(\"../assets/models/iris_logistic_regression\")"
   ]
  },
  {
   "cell_type": "code",
   "execution_count": 13,
   "id": "da461b29-8175-438c-a9be-bac7556df3fb",
   "metadata": {},
   "outputs": [
    {
     "name": "stdout",
     "output_type": "stream",
     "text": [
      "+---+-----+----------+\n",
      "| id|label|prediction|\n",
      "+---+-----+----------+\n",
      "|100|  1.0|       1.0|\n",
      "|103|  2.0|       2.0|\n",
      "|108|  2.0|       2.0|\n",
      "|113|  2.0|       2.0|\n",
      "|116|  2.0|       2.0|\n",
      "|117|  2.0|       2.0|\n",
      "|123|  2.0|       2.0|\n",
      "|127|  2.0|       2.0|\n",
      "|129|  2.0|       2.0|\n",
      "|133|  2.0|       2.0|\n",
      "|134|  2.0|       1.0|\n",
      "|135|  2.0|       1.0|\n",
      "|141|  2.0|       2.0|\n",
      "|143|  2.0|       2.0|\n",
      "|145|  2.0|       2.0|\n",
      "|146|  2.0|       2.0|\n",
      "| 15|  0.0|       0.0|\n",
      "|150|  2.0|       2.0|\n",
      "| 16|  0.0|       0.0|\n",
      "| 19|  0.0|       0.0|\n",
      "+---+-----+----------+\n",
      "only showing top 20 rows\n",
      "\n"
     ]
    }
   ],
   "source": [
    "# in another session...\n",
    "from pyspark.ml.classification import LogisticRegressionModel\n",
    "model_fitted = LogisticRegressionModel.load(\"../assets/models/iris_logistic_regression\")\n",
    "y_pred = model_fitted.transform(df_test).select(\"id\", \"label\", \"prediction\")\n",
    "y_pred.show()"
   ]
  },
  {
   "cell_type": "markdown",
   "id": "c99102e2-c414-477b-b095-dca76177b199",
   "metadata": {},
   "source": [
    "# Persist with interchangable format\n",
    "\n",
    "\n",
    "TODO: save to PMML and read with sklearn\n",
    "\n",
    "CURRENTLY DOES NOT WORK"
   ]
  },
  {
   "cell_type": "code",
   "execution_count": null,
   "id": "37e8996e-dcae-403f-9fc5-59c9783e0642",
   "metadata": {},
   "outputs": [],
   "source": [
    "pip install pyspark2pmml\n",
    "!export SPARK_HOME=/opt/spark-3.0.0-preview2/\n",
    "spark.conf.set(\"packages\", \"org.jpmml:jpmml-sparkml:1.6.0\") "
   ]
  },
  {
   "cell_type": "code",
   "execution_count": 23,
   "id": "9940d476-821b-4fb8-aea9-84d489210014",
   "metadata": {},
   "outputs": [
    {
     "ename": "RuntimeError",
     "evalue": "JPMML-SparkML not found on classpath",
     "output_type": "error",
     "traceback": [
      "\u001b[0;31m---------------------------------------------------------------------------\u001b[0m",
      "\u001b[0;31mRuntimeError\u001b[0m                              Traceback (most recent call last)",
      "Cell \u001b[0;32mIn[23], line 6\u001b[0m\n\u001b[1;32m      3\u001b[0m pipeline_spark \u001b[38;5;241m=\u001b[39m Pipeline(stages\u001b[38;5;241m=\u001b[39m[model_fitted])\n\u001b[1;32m      4\u001b[0m \u001b[38;5;28;01mfrom\u001b[39;00m \u001b[38;5;21;01mpyspark2pmml\u001b[39;00m \u001b[38;5;28;01mimport\u001b[39;00m PMMLBuilder\n\u001b[0;32m----> 6\u001b[0m pmmlBuilder \u001b[38;5;241m=\u001b[39m \u001b[43mPMMLBuilder\u001b[49m\u001b[43m(\u001b[49m\u001b[43mspark\u001b[49m\u001b[43m,\u001b[49m\u001b[43m \u001b[49m\u001b[43mdf\u001b[49m\u001b[43m,\u001b[49m\u001b[43m \u001b[49m\u001b[43mpipeline_spark\u001b[49m\u001b[43m)\u001b[49m\n\u001b[1;32m      8\u001b[0m pmmlBuilder\u001b[38;5;241m.\u001b[39mbuildFile(\u001b[38;5;124m\"\u001b[39m\u001b[38;5;124m../assets/models/iris_logistic_regression.pmml\u001b[39m\u001b[38;5;124m\"\u001b[39m)\n",
      "File \u001b[0;32m/opt/conda/lib/python3.11/site-packages/pyspark2pmml/__init__.py:14\u001b[0m, in \u001b[0;36mPMMLBuilder.__init__\u001b[0;34m(self, sc, df, pipelineModel)\u001b[0m\n\u001b[1;32m     12\u001b[0m javaPmmlBuilderClass \u001b[38;5;241m=\u001b[39m sc\u001b[38;5;241m.\u001b[39m_jvm\u001b[38;5;241m.\u001b[39morg\u001b[38;5;241m.\u001b[39mjpmml\u001b[38;5;241m.\u001b[39msparkml\u001b[38;5;241m.\u001b[39mPMMLBuilder\n\u001b[1;32m     13\u001b[0m \u001b[38;5;28;01mif\u001b[39;00m(\u001b[38;5;129;01mnot\u001b[39;00m \u001b[38;5;28misinstance\u001b[39m(javaPmmlBuilderClass, JavaClass)):\n\u001b[0;32m---> 14\u001b[0m \t\u001b[38;5;28;01mraise\u001b[39;00m \u001b[38;5;167;01mRuntimeError\u001b[39;00m(\u001b[38;5;124m\"\u001b[39m\u001b[38;5;124mJPMML-SparkML not found on classpath\u001b[39m\u001b[38;5;124m\"\u001b[39m)\n\u001b[1;32m     15\u001b[0m javaPmmlBuilder \u001b[38;5;241m=\u001b[39m javaPmmlBuilderClass(javaSchema, javaPipelineModel)\n\u001b[1;32m     16\u001b[0m \u001b[38;5;28mself\u001b[39m\u001b[38;5;241m.\u001b[39msc \u001b[38;5;241m=\u001b[39m sc\n",
      "\u001b[0;31mRuntimeError\u001b[0m: JPMML-SparkML not found on classpath"
     ]
    }
   ],
   "source": [
    "from pyspark.ml import Pipeline\n",
    "pipeline_spark = Pipeline(stages=[model_fitted])\n",
    "\n",
    "from pyspark2pmml import PMMLBuilder\n",
    "PMMLBuilder(spark, df, pipeline_spark).buildFile(\"../assets/models/iris_logistic_regression.pmml\")"
   ]
  },
  {
   "cell_type": "code",
   "execution_count": 24,
   "id": "1b3db511-8d74-4479-8b72-f967eac431b3",
   "metadata": {},
   "outputs": [
    {
     "ename": "ModuleNotFoundError",
     "evalue": "No module named 'sklearn2pmml'",
     "output_type": "error",
     "traceback": [
      "\u001b[0;31m---------------------------------------------------------------------------\u001b[0m",
      "\u001b[0;31mModuleNotFoundError\u001b[0m                       Traceback (most recent call last)",
      "Cell \u001b[0;32mIn[24], line 2\u001b[0m\n\u001b[1;32m      1\u001b[0m \u001b[38;5;66;03m# in another session...\u001b[39;00m\n\u001b[0;32m----> 2\u001b[0m \u001b[38;5;28;01mfrom\u001b[39;00m \u001b[38;5;21;01msklearn2pmml\u001b[39;00m \u001b[38;5;28;01mimport\u001b[39;00m PMMLPipeline\n\u001b[1;32m      3\u001b[0m pipeline_sklearn \u001b[38;5;241m=\u001b[39m PMMLPipeline\u001b[38;5;241m.\u001b[39mfrom_spark_pipeline(PipelineModel\u001b[38;5;241m.\u001b[39mload(\u001b[38;5;124m\"\u001b[39m\u001b[38;5;124m../assets/models/iris_logistic_regression.pmml\u001b[39m\u001b[38;5;124m\"\u001b[39m))\n",
      "\u001b[0;31mModuleNotFoundError\u001b[0m: No module named 'sklearn2pmml'"
     ]
    }
   ],
   "source": [
    "# in another session...\n",
    "from sklearn2pmml import PMMLPipeline\n",
    "pipeline_sklearn = PMMLPipeline.from_spark_pipeline(PipelineModel.load(\"../assets/models/iris_logistic_regression.pmml\"))"
   ]
  }
 ],
 "metadata": {
  "kernelspec": {
   "display_name": "Python 3 (ipykernel)",
   "language": "python",
   "name": "python3"
  },
  "language_info": {
   "codemirror_mode": {
    "name": "ipython",
    "version": 3
   },
   "file_extension": ".py",
   "mimetype": "text/x-python",
   "name": "python",
   "nbconvert_exporter": "python",
   "pygments_lexer": "ipython3",
   "version": "3.11.6"
  }
 },
 "nbformat": 4,
 "nbformat_minor": 5
}
