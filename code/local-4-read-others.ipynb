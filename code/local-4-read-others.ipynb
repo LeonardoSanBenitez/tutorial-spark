{
 "cells": [
  {
   "cell_type": "markdown",
   "id": "58b67568-591f-43bb-8eef-40dd0b51de45",
   "metadata": {},
   "source": [
    "# Read from DB\n",
    "\n",
    "In this case is a postgres, but any databse with support to jdbc driver should not be much different\n",
    "\n",
    "this DOESNT really work yet, we have to download the driver and put it in the /drivers/ folder\n",
    "\n",
    "and, of course, we don't have a database running"
   ]
  },
  {
   "cell_type": "code",
   "execution_count": null,
   "id": "8a9f143c-e343-4ed9-8f1b-12babeb27f6a",
   "metadata": {},
   "outputs": [],
   "source": [
    "spark = SparkSession.builder \\\n",
    "    .master('local') \\\n",
    "    .appName('myAppName') \\\n",
    "    .config('spark.executor.memory', '4gb') \\\n",
    "    .config('spark.cores.max', '4') \\\n",
    "    .config('spark.sql.legacy.setCommandRejectsSparkCoreConfs', 'false') \\\n",
    "    .config('spark.driver.extraClassPath', '../drivers/*') \\\n",
    "    .getOrCreate()\n",
    "    \n",
    "spark.conf.set(\"spark.sql.execution.arrow.pyspark.enabled\", \"true\")\n",
    "spark.conf.set(\"spark.driver.extraJavaOptions\", \"-Dio.netty.tryReflectionSetAccessible=true\")\n",
    "spark.conf.set(\"spark.executor.extraJavaOptions\", \"-Dio.netty.tryReflectionSetAccessible=true\")\n",
    "spark.conf.set('spark.executorEnv.ARROW_PRE_0_15_IPC_FORMAT', \"1\")\n",
    "\n",
    "df = spark.read \\\n",
    "    .format(\"jdbc\") \\\n",
    "    .option(\"url\", \"jdbc:postgres://...\") \\\n",
    "    .option(\"user\", \"...\") \\\n",
    "    .option(\"password\", \"...\") \\\n",
    "    .option(\"query\", \"SELECT * FROM LALALA\")\\\n",
    "    .load()\n",
    "print(df.count())"
   ]
  },
  {
   "cell_type": "markdown",
   "id": "2f5b1e15-8f42-4631-8ac1-9f6fbb3eab75",
   "metadata": {},
   "source": [
    "# Read from S3\n",
    "\n",
    "Again, I'm not sure if this run as-it-is without installing anything else\n",
    "\n",
    "But I did tested this code in AWS EMR, where it doesnt need anything else\n",
    "\n",
    "also, probably it's possible to read without specifying the schema"
   ]
  },
  {
   "cell_type": "code",
   "execution_count": null,
   "id": "2d4e2d67-a5e7-419a-ba49-908e69a54843",
   "metadata": {},
   "outputs": [],
   "source": [
    "schema = StructType([\n",
    "    StructField('created_at', TimestampType(), True),\n",
    "    StructField('value', StringType(), True),\n",
    "])\n",
    "\n",
    "\n",
    "df = spark.read\\\n",
    "    .schema(schema)\\\n",
    "    .options(header='true', multiLine=True, delimiter = \",\", mode=\"PERMISSIVE\")\\\n",
    "    .csv(\"s3://crazy-bucket/lalala.csv\")\n",
    "\n",
    "print(df.count())\n",
    "df.printSchema()\n",
    "df.show(10)\n"
   ]
  }
 ],
 "metadata": {
  "kernelspec": {
   "display_name": "Python 3 (ipykernel)",
   "language": "python",
   "name": "python3"
  },
  "language_info": {
   "codemirror_mode": {
    "name": "ipython",
    "version": 3
   },
   "file_extension": ".py",
   "mimetype": "text/x-python",
   "name": "python",
   "nbconvert_exporter": "python",
   "pygments_lexer": "ipython3",
   "version": "3.10.5"
  }
 },
 "nbformat": 4,
 "nbformat_minor": 5
}
